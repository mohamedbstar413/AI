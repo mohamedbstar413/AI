{
 "cells": [
  {
   "cell_type": "code",
   "execution_count": 1,
   "id": "2aece586",
   "metadata": {},
   "outputs": [],
   "source": [
    "import numpy as np\n",
    "import pandas as pd\n",
    "import matplotlib.pyplot as plt\n",
    "import seaborn as sns\n",
    "%matplotlib inline"
   ]
  },
  {
   "cell_type": "code",
   "execution_count": 2,
   "id": "d0c12ca5",
   "metadata": {},
   "outputs": [],
   "source": [
    "ratings = pd.read_csv('ratings.csv')\n",
    "movies = pd.read_csv('movies.csv')"
   ]
  },
  {
   "cell_type": "code",
   "execution_count": 3,
   "id": "eb61d1f3",
   "metadata": {},
   "outputs": [
    {
     "data": {
      "text/html": [
       "<div>\n",
       "<style scoped>\n",
       "    .dataframe tbody tr th:only-of-type {\n",
       "        vertical-align: middle;\n",
       "    }\n",
       "\n",
       "    .dataframe tbody tr th {\n",
       "        vertical-align: top;\n",
       "    }\n",
       "\n",
       "    .dataframe thead th {\n",
       "        text-align: right;\n",
       "    }\n",
       "</style>\n",
       "<table border=\"1\" class=\"dataframe\">\n",
       "  <thead>\n",
       "    <tr style=\"text-align: right;\">\n",
       "      <th></th>\n",
       "      <th>userId</th>\n",
       "      <th>movieId</th>\n",
       "      <th>rating</th>\n",
       "      <th>timestamp</th>\n",
       "    </tr>\n",
       "  </thead>\n",
       "  <tbody>\n",
       "    <tr>\n",
       "      <th>0</th>\n",
       "      <td>1</td>\n",
       "      <td>1</td>\n",
       "      <td>4.0</td>\n",
       "      <td>964982703</td>\n",
       "    </tr>\n",
       "    <tr>\n",
       "      <th>1</th>\n",
       "      <td>1</td>\n",
       "      <td>3</td>\n",
       "      <td>4.0</td>\n",
       "      <td>964981247</td>\n",
       "    </tr>\n",
       "    <tr>\n",
       "      <th>2</th>\n",
       "      <td>1</td>\n",
       "      <td>6</td>\n",
       "      <td>4.0</td>\n",
       "      <td>964982224</td>\n",
       "    </tr>\n",
       "    <tr>\n",
       "      <th>3</th>\n",
       "      <td>1</td>\n",
       "      <td>47</td>\n",
       "      <td>5.0</td>\n",
       "      <td>964983815</td>\n",
       "    </tr>\n",
       "    <tr>\n",
       "      <th>4</th>\n",
       "      <td>1</td>\n",
       "      <td>50</td>\n",
       "      <td>5.0</td>\n",
       "      <td>964982931</td>\n",
       "    </tr>\n",
       "  </tbody>\n",
       "</table>\n",
       "</div>"
      ],
      "text/plain": [
       "   userId  movieId  rating  timestamp\n",
       "0       1        1     4.0  964982703\n",
       "1       1        3     4.0  964981247\n",
       "2       1        6     4.0  964982224\n",
       "3       1       47     5.0  964983815\n",
       "4       1       50     5.0  964982931"
      ]
     },
     "execution_count": 3,
     "metadata": {},
     "output_type": "execute_result"
    }
   ],
   "source": [
    "ratings.head()"
   ]
  },
  {
   "cell_type": "code",
   "execution_count": 4,
   "id": "e1b02a30",
   "metadata": {},
   "outputs": [
    {
     "data": {
      "text/html": [
       "<div>\n",
       "<style scoped>\n",
       "    .dataframe tbody tr th:only-of-type {\n",
       "        vertical-align: middle;\n",
       "    }\n",
       "\n",
       "    .dataframe tbody tr th {\n",
       "        vertical-align: top;\n",
       "    }\n",
       "\n",
       "    .dataframe thead th {\n",
       "        text-align: right;\n",
       "    }\n",
       "</style>\n",
       "<table border=\"1\" class=\"dataframe\">\n",
       "  <thead>\n",
       "    <tr style=\"text-align: right;\">\n",
       "      <th></th>\n",
       "      <th>movieId</th>\n",
       "      <th>title</th>\n",
       "      <th>genres</th>\n",
       "    </tr>\n",
       "  </thead>\n",
       "  <tbody>\n",
       "    <tr>\n",
       "      <th>0</th>\n",
       "      <td>1</td>\n",
       "      <td>Toy Story (1995)</td>\n",
       "      <td>Adventure|Animation|Children|Comedy|Fantasy</td>\n",
       "    </tr>\n",
       "    <tr>\n",
       "      <th>1</th>\n",
       "      <td>2</td>\n",
       "      <td>Jumanji (1995)</td>\n",
       "      <td>Adventure|Children|Fantasy</td>\n",
       "    </tr>\n",
       "    <tr>\n",
       "      <th>2</th>\n",
       "      <td>3</td>\n",
       "      <td>Grumpier Old Men (1995)</td>\n",
       "      <td>Comedy|Romance</td>\n",
       "    </tr>\n",
       "    <tr>\n",
       "      <th>3</th>\n",
       "      <td>4</td>\n",
       "      <td>Waiting to Exhale (1995)</td>\n",
       "      <td>Comedy|Drama|Romance</td>\n",
       "    </tr>\n",
       "    <tr>\n",
       "      <th>4</th>\n",
       "      <td>5</td>\n",
       "      <td>Father of the Bride Part II (1995)</td>\n",
       "      <td>Comedy</td>\n",
       "    </tr>\n",
       "  </tbody>\n",
       "</table>\n",
       "</div>"
      ],
      "text/plain": [
       "   movieId                               title  \\\n",
       "0        1                    Toy Story (1995)   \n",
       "1        2                      Jumanji (1995)   \n",
       "2        3             Grumpier Old Men (1995)   \n",
       "3        4            Waiting to Exhale (1995)   \n",
       "4        5  Father of the Bride Part II (1995)   \n",
       "\n",
       "                                        genres  \n",
       "0  Adventure|Animation|Children|Comedy|Fantasy  \n",
       "1                   Adventure|Children|Fantasy  \n",
       "2                               Comedy|Romance  \n",
       "3                         Comedy|Drama|Romance  \n",
       "4                                       Comedy  "
      ]
     },
     "execution_count": 4,
     "metadata": {},
     "output_type": "execute_result"
    }
   ],
   "source": [
    "movies.head()"
   ]
  },
  {
   "cell_type": "markdown",
   "id": "953da8b7",
   "metadata": {},
   "source": [
    "## Exploring Movies and Ratings"
   ]
  },
  {
   "cell_type": "code",
   "execution_count": 5,
   "id": "93237f7a",
   "metadata": {},
   "outputs": [
    {
     "name": "stdout",
     "output_type": "stream",
     "text": [
      "Number of ratings#  100836\n",
      "Number of movies#  9742\n",
      "Number of users#  610\n"
     ]
    }
   ],
   "source": [
    "n_ratings = ratings.shape[0]\n",
    "n_movies = movies['movieId'].nunique()\n",
    "n_users = ratings['userId'].nunique()\n",
    "\n",
    "print('Number of ratings# ', n_ratings)\n",
    "print('Number of movies# ', n_movies)\n",
    "print('Number of users# ', n_users)"
   ]
  },
  {
   "cell_type": "markdown",
   "id": "4e75570a",
   "metadata": {},
   "source": [
    "### The Distribution of ratings"
   ]
  },
  {
   "cell_type": "code",
   "execution_count": 6,
   "id": "137e057e",
   "metadata": {},
   "outputs": [
    {
     "data": {
      "image/png": "[encoded data removed]",
      "text/plain": [
       "<Figure size 432x288 with 1 Axes>"
      ]
     },
     "metadata": {
      "needs_background": "light"
     },
     "output_type": "display_data"
    }
   ],
   "source": [
    "sns.countplot(x='rating', data=ratings, palette='viridis')\n",
    "plt.title('Distributution of Ratings')\n",
    "plt.show()"
   ]
  },
  {
   "cell_type": "code",
   "execution_count": 7,
   "id": "3c629570",
   "metadata": {},
   "outputs": [
    {
     "name": "stdout",
     "output_type": "stream",
     "text": [
      "The Average Rating is  3.5\n"
     ]
    }
   ],
   "source": [
    "mean_rating = ratings['rating'].mean()\n",
    "print('The Average Rating is ', round(mean_rating, 2))"
   ]
  },
  {
   "cell_type": "code",
   "execution_count": 8,
   "id": "9524896d",
   "metadata": {},
   "outputs": [
    {
     "name": "stdout",
     "output_type": "stream",
     "text": [
      "The Average Rating Per User is  3.66\n"
     ]
    }
   ],
   "source": [
    "mean_ratings_users = ratings.groupby('userId').mean()\n",
    "mean_ratings_per_user = mean_ratings_users['rating'].mean()\n",
    "print('The Average Rating Per User is ', round(mean_ratings_per_user, 2))"
   ]
  },
  {
   "cell_type": "markdown",
   "id": "38ff6725",
   "metadata": {},
   "source": [
    "### Info about movies"
   ]
  },
  {
   "cell_type": "code",
   "execution_count": 9,
   "id": "dfbb28b6",
   "metadata": {},
   "outputs": [
    {
     "name": "stdout",
     "output_type": "stream",
     "text": [
      "Average Movie Rating is  3.26\n"
     ]
    }
   ],
   "source": [
    "movies_ratings = ratings.merge(movies, on='movieId')\n",
    "average_rating_per_movie = movies_ratings.groupby('movieId')['rating'].mean()\n",
    "average_movie_rating = average_rating_per_movie.mean()\n",
    "print('Average Movie Rating is ', round(average_movie_rating, 2))"
   ]
  },
  {
   "cell_type": "markdown",
   "id": "8c4043d8",
   "metadata": {},
   "source": [
    "### Get The Most rated movie"
   ]
  },
  {
   "cell_type": "code",
   "execution_count": 10,
   "id": "86c8c7e6",
   "metadata": {},
   "outputs": [
    {
     "name": "stdout",
     "output_type": "stream",
     "text": [
      "The Most Rated Movie is  314    Forrest Gump (1994)\n",
      "Name: title, dtype: object\n",
      "The Ratings number is  329\n"
     ]
    }
   ],
   "source": [
    "num_ratings_movies = movies_ratings.groupby('movieId').size()\n",
    "most_rated_movie_id = num_ratings_movies.idxmax()\n",
    "most_rating_number = num_ratings_movies.max()\n",
    "most_rated_movie_name = movies[movies.movieId == most_rated_movie_id]['title']\n",
    "print('The Most Rated Movie is ', most_rated_movie_name)\n",
    "print('The Ratings number is ', most_rating_number)"
   ]
  },
  {
   "cell_type": "markdown",
   "id": "4c747125",
   "metadata": {},
   "source": [
    "### Forrest Gump (1994)  is the most Rated Movie"
   ]
  },
  {
   "cell_type": "markdown",
   "id": "29e02164",
   "metadata": {},
   "source": [
    "## Get the Highest Rated Movie"
   ]
  },
  {
   "cell_type": "code",
   "execution_count": 11,
   "id": "3d238c34",
   "metadata": {},
   "outputs": [
    {
     "name": "stdout",
     "output_type": "stream",
     "text": [
      "The Highest Rated Movie is  48    Lamerica (1994)\n",
      "Name: title, dtype: object\n",
      "Its Rating is  5.0\n",
      "Its number of ratings is  movieId\n",
      "53    2\n",
      "dtype: int64\n"
     ]
    }
   ],
   "source": [
    "movie_rating_averages = movies_ratings.groupby('movieId')['rating'].mean()\n",
    "highest_rated_movie_id = movie_rating_averages.idxmax()\n",
    "its_rating = movie_rating_averages.max()\n",
    "highest_rated_movie_name = movies[movies.movieId == highest_rated_movie_id].title\n",
    "number_of_ratings = num_ratings_movies[num_ratings_movies.index == highest_rated_movie_id]\n",
    "print('The Highest Rated Movie is ', highest_rated_movie_name)\n",
    "print('Its Rating is ', its_rating)\n",
    "print('Its number of ratings is ',number_of_ratings )"
   ]
  },
  {
   "cell_type": "markdown",
   "id": "eede56b7",
   "metadata": {},
   "source": [
    "#### This could be misleading as it was only rated for 2 times and we cannpt rely on this number"
   ]
  },
  {
   "cell_type": "markdown",
   "id": "f7a0cbf3",
   "metadata": {},
   "source": [
    "### We could utilize the bayesian average"
   ]
  },
  {
   "cell_type": "code",
   "execution_count": 12,
   "id": "114c72e0",
   "metadata": {},
   "outputs": [],
   "source": [
    "movie_rate_count_mean = ratings.groupby('movieId')['rating'].agg(['count', 'mean'])"
   ]
  },
  {
   "cell_type": "code",
   "execution_count": 13,
   "id": "77ffb9f0",
   "metadata": {},
   "outputs": [],
   "source": [
    "C = movie_rate_count_mean['count'].mean() #Average number of ratings\n",
    "m = movie_rate_count_mean['mean'].mean() #Average rating\n",
    "\n",
    "def calc_bayes_avg(df):\n",
    "    bayes_avg = (C*m+df.sum())/(C+df.count())\n",
    "    return round(bayes_avg, 3)"
   ]
  },
  {
   "cell_type": "code",
   "execution_count": 14,
   "id": "1925c12f",
   "metadata": {},
   "outputs": [
    {
     "data": {
      "text/plain": [
       "3.543"
      ]
     },
     "execution_count": 14,
     "metadata": {},
     "output_type": "execute_result"
    }
   ],
   "source": [
    "lamerica = pd.Series([5, 5])\n",
    "calc_bayes_avg(lamerica)"
   ]
  },
  {
   "cell_type": "markdown",
   "id": "4ed5cf0f",
   "metadata": {},
   "source": [
    "### Lamerica using bayes_avg gets only 3.54 rating"
   ]
  },
  {
   "cell_type": "markdown",
   "id": "ed5f13e2",
   "metadata": {},
   "source": [
    "## Calculating Bayesian Average for all movies"
   ]
  },
  {
   "cell_type": "code",
   "execution_count": 15,
   "id": "a0897c53",
   "metadata": {},
   "outputs": [],
   "source": [
    "movie_rating_avg = ratings.groupby('movieId')['rating'].agg(calc_bayes_avg).reset_index()"
   ]
  },
  {
   "cell_type": "code",
   "execution_count": 16,
   "id": "bd0210e7",
   "metadata": {},
   "outputs": [
    {
     "data": {
      "text/html": [
       "<div>\n",
       "<style scoped>\n",
       "    .dataframe tbody tr th:only-of-type {\n",
       "        vertical-align: middle;\n",
       "    }\n",
       "\n",
       "    .dataframe tbody tr th {\n",
       "        vertical-align: top;\n",
       "    }\n",
       "\n",
       "    .dataframe thead th {\n",
       "        text-align: right;\n",
       "    }\n",
       "</style>\n",
       "<table border=\"1\" class=\"dataframe\">\n",
       "  <thead>\n",
       "    <tr style=\"text-align: right;\">\n",
       "      <th></th>\n",
       "      <th>movieId</th>\n",
       "      <th>rating</th>\n",
       "    </tr>\n",
       "  </thead>\n",
       "  <tbody>\n",
       "    <tr>\n",
       "      <th>0</th>\n",
       "      <td>1</td>\n",
       "      <td>3.891</td>\n",
       "    </tr>\n",
       "    <tr>\n",
       "      <th>1</th>\n",
       "      <td>2</td>\n",
       "      <td>3.417</td>\n",
       "    </tr>\n",
       "    <tr>\n",
       "      <th>2</th>\n",
       "      <td>3</td>\n",
       "      <td>3.260</td>\n",
       "    </tr>\n",
       "    <tr>\n",
       "      <th>3</th>\n",
       "      <td>4</td>\n",
       "      <td>2.898</td>\n",
       "    </tr>\n",
       "    <tr>\n",
       "      <th>4</th>\n",
       "      <td>5</td>\n",
       "      <td>3.105</td>\n",
       "    </tr>\n",
       "  </tbody>\n",
       "</table>\n",
       "</div>"
      ],
      "text/plain": [
       "   movieId  rating\n",
       "0        1   3.891\n",
       "1        2   3.417\n",
       "2        3   3.260\n",
       "3        4   2.898\n",
       "4        5   3.105"
      ]
     },
     "execution_count": 16,
     "metadata": {},
     "output_type": "execute_result"
    }
   ],
   "source": [
    "movie_rating_avg.head()"
   ]
  },
  {
   "cell_type": "code",
   "execution_count": 17,
   "id": "19c58b03",
   "metadata": {},
   "outputs": [],
   "source": [
    "movie_rate_count_mean = movie_rate_count_mean.merge(movie_rating_avg, on='movieId')"
   ]
  },
  {
   "cell_type": "code",
   "execution_count": 18,
   "id": "b36eb2c5",
   "metadata": {},
   "outputs": [],
   "source": [
    "movie_rate_count_mean  =movie_rate_count_mean.merge(movies, on='movieId')"
   ]
  },
  {
   "cell_type": "code",
   "execution_count": 19,
   "id": "7ed8535a",
   "metadata": {},
   "outputs": [
    {
     "data": {
      "text/html": [
       "<div>\n",
       "<style scoped>\n",
       "    .dataframe tbody tr th:only-of-type {\n",
       "        vertical-align: middle;\n",
       "    }\n",
       "\n",
       "    .dataframe tbody tr th {\n",
       "        vertical-align: top;\n",
       "    }\n",
       "\n",
       "    .dataframe thead th {\n",
       "        text-align: right;\n",
       "    }\n",
       "</style>\n",
       "<table border=\"1\" class=\"dataframe\">\n",
       "  <thead>\n",
       "    <tr style=\"text-align: right;\">\n",
       "      <th></th>\n",
       "      <th>movieId</th>\n",
       "      <th>count</th>\n",
       "      <th>mean</th>\n",
       "      <th>rating</th>\n",
       "      <th>title</th>\n",
       "      <th>genres</th>\n",
       "    </tr>\n",
       "  </thead>\n",
       "  <tbody>\n",
       "    <tr>\n",
       "      <th>0</th>\n",
       "      <td>1</td>\n",
       "      <td>215</td>\n",
       "      <td>3.920930</td>\n",
       "      <td>3.891</td>\n",
       "      <td>Toy Story (1995)</td>\n",
       "      <td>Adventure|Animation|Children|Comedy|Fantasy</td>\n",
       "    </tr>\n",
       "    <tr>\n",
       "      <th>1</th>\n",
       "      <td>2</td>\n",
       "      <td>110</td>\n",
       "      <td>3.431818</td>\n",
       "      <td>3.417</td>\n",
       "      <td>Jumanji (1995)</td>\n",
       "      <td>Adventure|Children|Fantasy</td>\n",
       "    </tr>\n",
       "    <tr>\n",
       "      <th>2</th>\n",
       "      <td>3</td>\n",
       "      <td>52</td>\n",
       "      <td>3.259615</td>\n",
       "      <td>3.260</td>\n",
       "      <td>Grumpier Old Men (1995)</td>\n",
       "      <td>Comedy|Romance</td>\n",
       "    </tr>\n",
       "    <tr>\n",
       "      <th>3</th>\n",
       "      <td>4</td>\n",
       "      <td>7</td>\n",
       "      <td>2.357143</td>\n",
       "      <td>2.898</td>\n",
       "      <td>Waiting to Exhale (1995)</td>\n",
       "      <td>Comedy|Drama|Romance</td>\n",
       "    </tr>\n",
       "    <tr>\n",
       "      <th>4</th>\n",
       "      <td>5</td>\n",
       "      <td>49</td>\n",
       "      <td>3.071429</td>\n",
       "      <td>3.105</td>\n",
       "      <td>Father of the Bride Part II (1995)</td>\n",
       "      <td>Comedy</td>\n",
       "    </tr>\n",
       "  </tbody>\n",
       "</table>\n",
       "</div>"
      ],
      "text/plain": [
       "   movieId  count      mean  rating                               title  \\\n",
       "0        1    215  3.920930   3.891                    Toy Story (1995)   \n",
       "1        2    110  3.431818   3.417                      Jumanji (1995)   \n",
       "2        3     52  3.259615   3.260             Grumpier Old Men (1995)   \n",
       "3        4      7  2.357143   2.898            Waiting to Exhale (1995)   \n",
       "4        5     49  3.071429   3.105  Father of the Bride Part II (1995)   \n",
       "\n",
       "                                        genres  \n",
       "0  Adventure|Animation|Children|Comedy|Fantasy  \n",
       "1                   Adventure|Children|Fantasy  \n",
       "2                               Comedy|Romance  \n",
       "3                         Comedy|Drama|Romance  \n",
       "4                                       Comedy  "
      ]
     },
     "execution_count": 19,
     "metadata": {},
     "output_type": "execute_result"
    }
   ],
   "source": [
    "movie_rate_count_mean.head()"
   ]
  },
  {
   "cell_type": "code",
   "execution_count": 20,
   "id": "9a58fd3a",
   "metadata": {},
   "outputs": [
    {
     "data": {
      "text/html": [
       "<div>\n",
       "<style scoped>\n",
       "    .dataframe tbody tr th:only-of-type {\n",
       "        vertical-align: middle;\n",
       "    }\n",
       "\n",
       "    .dataframe tbody tr th {\n",
       "        vertical-align: top;\n",
       "    }\n",
       "\n",
       "    .dataframe thead th {\n",
       "        text-align: right;\n",
       "    }\n",
       "</style>\n",
       "<table border=\"1\" class=\"dataframe\">\n",
       "  <thead>\n",
       "    <tr style=\"text-align: right;\">\n",
       "      <th></th>\n",
       "      <th>movieId</th>\n",
       "      <th>rating</th>\n",
       "    </tr>\n",
       "  </thead>\n",
       "  <tbody>\n",
       "    <tr>\n",
       "      <th>0</th>\n",
       "      <td>1</td>\n",
       "      <td>3.891</td>\n",
       "    </tr>\n",
       "    <tr>\n",
       "      <th>1</th>\n",
       "      <td>2</td>\n",
       "      <td>3.417</td>\n",
       "    </tr>\n",
       "    <tr>\n",
       "      <th>2</th>\n",
       "      <td>3</td>\n",
       "      <td>3.260</td>\n",
       "    </tr>\n",
       "    <tr>\n",
       "      <th>3</th>\n",
       "      <td>4</td>\n",
       "      <td>2.898</td>\n",
       "    </tr>\n",
       "    <tr>\n",
       "      <th>4</th>\n",
       "      <td>5</td>\n",
       "      <td>3.105</td>\n",
       "    </tr>\n",
       "  </tbody>\n",
       "</table>\n",
       "</div>"
      ],
      "text/plain": [
       "   movieId  rating\n",
       "0        1   3.891\n",
       "1        2   3.417\n",
       "2        3   3.260\n",
       "3        4   2.898\n",
       "4        5   3.105"
      ]
     },
     "execution_count": 20,
     "metadata": {},
     "output_type": "execute_result"
    }
   ],
   "source": [
    "movie_rating_avg.head()"
   ]
  },
  {
   "cell_type": "markdown",
   "id": "318f7297",
   "metadata": {},
   "source": [
    "## rating is the bayesian average for the given movie"
   ]
  },
  {
   "cell_type": "markdown",
   "id": "d539ce3a",
   "metadata": {},
   "source": [
    "### Now we can see the highest rated movie"
   ]
  },
  {
   "cell_type": "code",
   "execution_count": 21,
   "id": "40d9d37f",
   "metadata": {},
   "outputs": [
    {
     "data": {
      "text/html": [
       "<div>\n",
       "<style scoped>\n",
       "    .dataframe tbody tr th:only-of-type {\n",
       "        vertical-align: middle;\n",
       "    }\n",
       "\n",
       "    .dataframe tbody tr th {\n",
       "        vertical-align: top;\n",
       "    }\n",
       "\n",
       "    .dataframe thead th {\n",
       "        text-align: right;\n",
       "    }\n",
       "</style>\n",
       "<table border=\"1\" class=\"dataframe\">\n",
       "  <thead>\n",
       "    <tr style=\"text-align: right;\">\n",
       "      <th></th>\n",
       "      <th>movieId</th>\n",
       "      <th>count</th>\n",
       "      <th>mean</th>\n",
       "      <th>rating</th>\n",
       "      <th>title</th>\n",
       "      <th>genres</th>\n",
       "    </tr>\n",
       "  </thead>\n",
       "  <tbody>\n",
       "    <tr>\n",
       "      <th>277</th>\n",
       "      <td>318</td>\n",
       "      <td>317</td>\n",
       "      <td>4.429022</td>\n",
       "      <td>4.392</td>\n",
       "      <td>Shawshank Redemption, The (1994)</td>\n",
       "      <td>Crime|Drama</td>\n",
       "    </tr>\n",
       "    <tr>\n",
       "      <th>659</th>\n",
       "      <td>858</td>\n",
       "      <td>192</td>\n",
       "      <td>4.289062</td>\n",
       "      <td>4.236</td>\n",
       "      <td>Godfather, The (1972)</td>\n",
       "      <td>Crime|Drama</td>\n",
       "    </tr>\n",
       "    <tr>\n",
       "      <th>2224</th>\n",
       "      <td>2959</td>\n",
       "      <td>218</td>\n",
       "      <td>4.272936</td>\n",
       "      <td>4.227</td>\n",
       "      <td>Fight Club (1999)</td>\n",
       "      <td>Action|Crime|Drama|Thriller</td>\n",
       "    </tr>\n",
       "    <tr>\n",
       "      <th>224</th>\n",
       "      <td>260</td>\n",
       "      <td>251</td>\n",
       "      <td>4.231076</td>\n",
       "      <td>4.193</td>\n",
       "      <td>Star Wars: Episode IV - A New Hope (1977)</td>\n",
       "      <td>Action|Adventure|Sci-Fi</td>\n",
       "    </tr>\n",
       "    <tr>\n",
       "      <th>46</th>\n",
       "      <td>50</td>\n",
       "      <td>204</td>\n",
       "      <td>4.237745</td>\n",
       "      <td>4.191</td>\n",
       "      <td>Usual Suspects, The (1995)</td>\n",
       "      <td>Crime|Mystery|Thriller</td>\n",
       "    </tr>\n",
       "    <tr>\n",
       "      <th>...</th>\n",
       "      <td>...</td>\n",
       "      <td>...</td>\n",
       "      <td>...</td>\n",
       "      <td>...</td>\n",
       "      <td>...</td>\n",
       "      <td>...</td>\n",
       "    </tr>\n",
       "    <tr>\n",
       "      <th>1988</th>\n",
       "      <td>2643</td>\n",
       "      <td>16</td>\n",
       "      <td>1.687500</td>\n",
       "      <td>2.307</td>\n",
       "      <td>Superman IV: The Quest for Peace (1987)</td>\n",
       "      <td>Action|Adventure|Sci-Fi</td>\n",
       "    </tr>\n",
       "    <tr>\n",
       "      <th>1144</th>\n",
       "      <td>1499</td>\n",
       "      <td>27</td>\n",
       "      <td>1.925926</td>\n",
       "      <td>2.297</td>\n",
       "      <td>Anaconda (1997)</td>\n",
       "      <td>Action|Adventure|Thriller</td>\n",
       "    </tr>\n",
       "    <tr>\n",
       "      <th>1372</th>\n",
       "      <td>1882</td>\n",
       "      <td>33</td>\n",
       "      <td>1.954545</td>\n",
       "      <td>2.267</td>\n",
       "      <td>Godzilla (1998)</td>\n",
       "      <td>Action|Sci-Fi|Thriller</td>\n",
       "    </tr>\n",
       "    <tr>\n",
       "      <th>2679</th>\n",
       "      <td>3593</td>\n",
       "      <td>19</td>\n",
       "      <td>1.657895</td>\n",
       "      <td>2.224</td>\n",
       "      <td>Battlefield Earth (2000)</td>\n",
       "      <td>Action|Sci-Fi</td>\n",
       "    </tr>\n",
       "    <tr>\n",
       "      <th>1172</th>\n",
       "      <td>1556</td>\n",
       "      <td>19</td>\n",
       "      <td>1.605263</td>\n",
       "      <td>2.190</td>\n",
       "      <td>Speed 2: Cruise Control (1997)</td>\n",
       "      <td>Action|Romance|Thriller</td>\n",
       "    </tr>\n",
       "  </tbody>\n",
       "</table>\n",
       "<p>9724 rows × 6 columns</p>\n",
       "</div>"
      ],
      "text/plain": [
       "      movieId  count      mean  rating  \\\n",
       "277       318    317  4.429022   4.392   \n",
       "659       858    192  4.289062   4.236   \n",
       "2224     2959    218  4.272936   4.227   \n",
       "224       260    251  4.231076   4.193   \n",
       "46         50    204  4.237745   4.191   \n",
       "...       ...    ...       ...     ...   \n",
       "1988     2643     16  1.687500   2.307   \n",
       "1144     1499     27  1.925926   2.297   \n",
       "1372     1882     33  1.954545   2.267   \n",
       "2679     3593     19  1.657895   2.224   \n",
       "1172     1556     19  1.605263   2.190   \n",
       "\n",
       "                                          title                       genres  \n",
       "277            Shawshank Redemption, The (1994)                  Crime|Drama  \n",
       "659                       Godfather, The (1972)                  Crime|Drama  \n",
       "2224                          Fight Club (1999)  Action|Crime|Drama|Thriller  \n",
       "224   Star Wars: Episode IV - A New Hope (1977)      Action|Adventure|Sci-Fi  \n",
       "46                   Usual Suspects, The (1995)       Crime|Mystery|Thriller  \n",
       "...                                         ...                          ...  \n",
       "1988    Superman IV: The Quest for Peace (1987)      Action|Adventure|Sci-Fi  \n",
       "1144                            Anaconda (1997)    Action|Adventure|Thriller  \n",
       "1372                            Godzilla (1998)       Action|Sci-Fi|Thriller  \n",
       "2679                   Battlefield Earth (2000)                Action|Sci-Fi  \n",
       "1172             Speed 2: Cruise Control (1997)      Action|Romance|Thriller  \n",
       "\n",
       "[9724 rows x 6 columns]"
      ]
     },
     "execution_count": 21,
     "metadata": {},
     "output_type": "execute_result"
    }
   ],
   "source": [
    "movie_rate_count_mean.sort_values('rating', ascending=False)"
   ]
  },
  {
   "cell_type": "markdown",
   "id": "63b59458",
   "metadata": {},
   "source": [
    "## The highest rated movie is Shawshank Redemption, The (1994)"
   ]
  },
  {
   "cell_type": "markdown",
   "id": "03bd253f",
   "metadata": {},
   "source": [
    "## dealing with Movie Genres"
   ]
  },
  {
   "cell_type": "code",
   "execution_count": 22,
   "id": "9cc975b2",
   "metadata": {},
   "outputs": [
    {
     "data": {
      "text/html": [
       "<div>\n",
       "<style scoped>\n",
       "    .dataframe tbody tr th:only-of-type {\n",
       "        vertical-align: middle;\n",
       "    }\n",
       "\n",
       "    .dataframe tbody tr th {\n",
       "        vertical-align: top;\n",
       "    }\n",
       "\n",
       "    .dataframe thead th {\n",
       "        text-align: right;\n",
       "    }\n",
       "</style>\n",
       "<table border=\"1\" class=\"dataframe\">\n",
       "  <thead>\n",
       "    <tr style=\"text-align: right;\">\n",
       "      <th></th>\n",
       "      <th>movieId</th>\n",
       "      <th>title</th>\n",
       "      <th>genres</th>\n",
       "    </tr>\n",
       "  </thead>\n",
       "  <tbody>\n",
       "    <tr>\n",
       "      <th>0</th>\n",
       "      <td>1</td>\n",
       "      <td>Toy Story (1995)</td>\n",
       "      <td>[Adventure, Animation, Children, Comedy, Fantasy]</td>\n",
       "    </tr>\n",
       "    <tr>\n",
       "      <th>1</th>\n",
       "      <td>2</td>\n",
       "      <td>Jumanji (1995)</td>\n",
       "      <td>[Adventure, Children, Fantasy]</td>\n",
       "    </tr>\n",
       "    <tr>\n",
       "      <th>2</th>\n",
       "      <td>3</td>\n",
       "      <td>Grumpier Old Men (1995)</td>\n",
       "      <td>[Comedy, Romance]</td>\n",
       "    </tr>\n",
       "    <tr>\n",
       "      <th>3</th>\n",
       "      <td>4</td>\n",
       "      <td>Waiting to Exhale (1995)</td>\n",
       "      <td>[Comedy, Drama, Romance]</td>\n",
       "    </tr>\n",
       "    <tr>\n",
       "      <th>4</th>\n",
       "      <td>5</td>\n",
       "      <td>Father of the Bride Part II (1995)</td>\n",
       "      <td>[Comedy]</td>\n",
       "    </tr>\n",
       "  </tbody>\n",
       "</table>\n",
       "</div>"
      ],
      "text/plain": [
       "   movieId                               title  \\\n",
       "0        1                    Toy Story (1995)   \n",
       "1        2                      Jumanji (1995)   \n",
       "2        3             Grumpier Old Men (1995)   \n",
       "3        4            Waiting to Exhale (1995)   \n",
       "4        5  Father of the Bride Part II (1995)   \n",
       "\n",
       "                                              genres  \n",
       "0  [Adventure, Animation, Children, Comedy, Fantasy]  \n",
       "1                     [Adventure, Children, Fantasy]  \n",
       "2                                  [Comedy, Romance]  \n",
       "3                           [Comedy, Drama, Romance]  \n",
       "4                                           [Comedy]  "
      ]
     },
     "execution_count": 22,
     "metadata": {},
     "output_type": "execute_result"
    }
   ],
   "source": [
    "movies['genres'] = movies['genres'].apply(lambda x: x.split(\"|\"))\n",
    "movies.head()"
   ]
  },
  {
   "cell_type": "markdown",
   "id": "4d128b3a",
   "metadata": {},
   "source": [
    "## Using Collaborative Filtering"
   ]
  },
  {
   "cell_type": "code",
   "execution_count": 23,
   "id": "4cde94e7",
   "metadata": {},
   "outputs": [],
   "source": [
    "from scipy.sparse import csr_matrix\n",
    "\n",
    "def create_X(df):\n",
    "    \n",
    "    M = df['userId'].nunique()\n",
    "    N = df['movieId'].nunique()\n",
    "\n",
    "    user_mapper = dict(zip(np.unique(df[\"userId\"]), list(range(M))))\n",
    "    movie_mapper = dict(zip(np.unique(df[\"movieId\"]), list(range(N))))\n",
    "    \n",
    "    user_inv_mapper = dict(zip(list(range(M)), np.unique(df[\"userId\"])))\n",
    "    movie_inv_mapper = dict(zip(list(range(N)), np.unique(df[\"movieId\"])))\n",
    "    \n",
    "    user_index = [user_mapper[i] for i in df['userId']]\n",
    "    item_index = [movie_mapper[i] for i in df['movieId']]\n",
    "\n",
    "    X = csr_matrix((df[\"rating\"], (user_index,item_index)), shape=(M,N))\n",
    "    \n",
    "    return X, user_mapper, movie_mapper, user_inv_mapper, movie_inv_mapper\n",
    "\n",
    "X, user_mapper, movie_mapper, user_inv_mapper, movie_inv_mapper = create_X(ratings)"
   ]
  },
  {
   "cell_type": "code",
   "execution_count": 24,
   "id": "ed2d2e62",
   "metadata": {},
   "outputs": [
    {
     "data": {
      "text/plain": [
       "610"
      ]
     },
     "execution_count": 24,
     "metadata": {},
     "output_type": "execute_result"
    }
   ],
   "source": [
    "n_ratings_per_user = X.getnnz(axis=1)\n",
    "len(n_ratings_per_user)"
   ]
  },
  {
   "cell_type": "code",
   "execution_count": 25,
   "id": "355f7897",
   "metadata": {},
   "outputs": [
    {
     "data": {
      "text/plain": [
       "9724"
      ]
     },
     "execution_count": 25,
     "metadata": {},
     "output_type": "execute_result"
    }
   ],
   "source": [
    "n_ratings_per_movie = X.getnnz(axis=0)\n",
    "len(n_ratings_per_movie)"
   ]
  },
  {
   "cell_type": "markdown",
   "id": "d30f2d01",
   "metadata": {},
   "source": [
    "## use KNearestNeighbors to find similar movies based on users recommendations"
   ]
  },
  {
   "cell_type": "code",
   "execution_count": 27,
   "id": "e894b764",
   "metadata": {},
   "outputs": [],
   "source": [
    "from sklearn.neighbors import NearestNeighbors"
   ]
  },
  {
   "cell_type": "code",
   "execution_count": 31,
   "id": "4c699cb2",
   "metadata": {},
   "outputs": [],
   "source": [
    "def get_similar_movies(movieId, X, movie_mapper, movie_inv_mapper, k, metric='cosine'):\n",
    "    X = X.T\n",
    "    neighbor_movies_ids = []\n",
    "    movieIndex = movie_mapper[movieId]\n",
    "    movieRates = X[movieIndex]\n",
    "    \n",
    "    if isinstance(movieRates, (np.ndarray)):\n",
    "        movieRates = movieRates.reshape(1,-1)\n",
    "        \n",
    "    kNN = NearestNeighbors(n_neighbors=k+1, algorithm=\"brute\", metric=metric)\n",
    "    kNN.fit(X)\n",
    "    neighbour = kNN.kneighbors(movieRates, return_distance=False)\n",
    "    for i in range(0,k):\n",
    "        n = neighbour.item(i)\n",
    "        neighbor_movies_ids.append(movie_inv_mapper[n])\n",
    "    neighbor_movies_ids.pop(0)\n",
    "    return neighbor_movies_ids\n"
   ]
  },
  {
   "cell_type": "code",
   "execution_count": 33,
   "id": "07275f9c",
   "metadata": {},
   "outputs": [
    {
     "name": "stdout",
     "output_type": "stream",
     "text": [
      "0    Toy Story (1995)\n",
      "Name: title, dtype: object\n"
     ]
    }
   ],
   "source": [
    "print(movies[movies['movieId'] == 1]['title'])"
   ]
  },
  {
   "cell_type": "code",
   "execution_count": 32,
   "id": "a6f19736",
   "metadata": {},
   "outputs": [
    {
     "data": {
      "text/plain": [
       "[3114, 480, 780, 260, 356, 364, 1210, 648, 1265]"
      ]
     },
     "execution_count": 32,
     "metadata": {},
     "output_type": "execute_result"
    }
   ],
   "source": [
    "similar_movies = get_similar_movies(1, X, movie_mapper, movie_inv_mapper, k=10)\n",
    "similar_movies"
   ]
  },
  {
   "cell_type": "code",
   "execution_count": 34,
   "id": "e4ee3799",
   "metadata": {},
   "outputs": [
    {
     "name": "stdout",
     "output_type": "stream",
     "text": [
      "      movieId                                              title  \\\n",
      "224       260          Star Wars: Episode IV - A New Hope (1977)   \n",
      "314       356                                Forrest Gump (1994)   \n",
      "322       364                              Lion King, The (1994)   \n",
      "418       480                               Jurassic Park (1993)   \n",
      "546       648                         Mission: Impossible (1996)   \n",
      "615       780               Independence Day (a.k.a. ID4) (1996)   \n",
      "911      1210  Star Wars: Episode VI - Return of the Jedi (1983)   \n",
      "964      1265                               Groundhog Day (1993)   \n",
      "2355     3114                                 Toy Story 2 (1999)   \n",
      "\n",
      "                                                 genres  \n",
      "224                         [Action, Adventure, Sci-Fi]  \n",
      "314                       [Comedy, Drama, Romance, War]  \n",
      "322   [Adventure, Animation, Children, Drama, Musica...  \n",
      "418               [Action, Adventure, Sci-Fi, Thriller]  \n",
      "546              [Action, Adventure, Mystery, Thriller]  \n",
      "615               [Action, Adventure, Sci-Fi, Thriller]  \n",
      "911                         [Action, Adventure, Sci-Fi]  \n",
      "964                          [Comedy, Fantasy, Romance]  \n",
      "2355  [Adventure, Animation, Children, Comedy, Fantasy]  \n"
     ]
    }
   ],
   "source": [
    "print(movies[movies['movieId'].isin([3114, 480, 780, 260, 356, 364, 1210, 648, 1265])])"
   ]
  },
  {
   "cell_type": "markdown",
   "id": "c43bb431",
   "metadata": {},
   "source": [
    "### The Above Movies are the 10 nearest to Toy Story (1995) based on user ratings"
   ]
  },
  {
   "cell_type": "markdown",
   "id": "83f9884f",
   "metadata": {},
   "source": [
    "## Dealing With Cold start problem"
   ]
  },
  {
   "cell_type": "code",
   "execution_count": 37,
   "id": "c768f44e",
   "metadata": {},
   "outputs": [],
   "source": [
    "genres = set(g for G in movies['genres'] for g in G)"
   ]
  },
  {
   "cell_type": "code",
   "execution_count": 38,
   "id": "9f0b08a4",
   "metadata": {},
   "outputs": [],
   "source": [
    "#assign existing or non for each movie in movies\n",
    "for g in genres:\n",
    "    movies[g] = movies.genres.transform(lambda x: int(g in x))"
   ]
  },
  {
   "cell_type": "code",
   "execution_count": 39,
   "id": "ac8881a3",
   "metadata": {},
   "outputs": [],
   "source": [
    "movie_genres = movies.drop(columns=['movieId', 'title','genres'])"
   ]
  },
  {
   "cell_type": "markdown",
   "id": "5ee7b7a8",
   "metadata": {},
   "source": [
    "### We use cosine similarity among movies to find the closest match for a user who watched a given movie"
   ]
  },
  {
   "cell_type": "code",
   "execution_count": 40,
   "id": "be171052",
   "metadata": {},
   "outputs": [],
   "source": [
    "from sklearn.metrics.pairwise import cosine_similarity\n",
    "\n",
    "cosine_sim = cosine_similarity(movie_genres, movie_genres)"
   ]
  },
  {
   "cell_type": "code",
   "execution_count": 41,
   "id": "5b5e82b8",
   "metadata": {},
   "outputs": [],
   "source": [
    "title = 'Jumanji (1995)'\n",
    "movie_idx = dict(zip(movies['title'], list(movies.index)))\n",
    "idx = movie_idx[title]"
   ]
  },
  {
   "cell_type": "code",
   "execution_count": 42,
   "id": "ba2bab6f",
   "metadata": {},
   "outputs": [
    {
     "data": {
      "text/plain": [
       "1"
      ]
     },
     "execution_count": 42,
     "metadata": {},
     "output_type": "execute_result"
    }
   ],
   "source": [
    "idx"
   ]
  },
  {
   "cell_type": "code",
   "execution_count": 43,
   "id": "6b4996ef",
   "metadata": {},
   "outputs": [],
   "source": [
    "n_recommendations=10\n",
    "sim_scores = list(enumerate(cosine_sim[idx]))\n",
    "sim_scores = sorted(sim_scores, key=lambda x: x[1], reverse=True)\n",
    "sim_scores = sim_scores[1:(n_recommendations+1)]\n",
    "similar_movies = [i[0] for i in sim_scores]"
   ]
  },
  {
   "cell_type": "markdown",
   "id": "b724655b",
   "metadata": {},
   "source": [
    "### Now we got a 10 similar movies for jumanji "
   ]
  },
  {
   "cell_type": "code",
   "execution_count": 44,
   "id": "4151cba2",
   "metadata": {},
   "outputs": [
    {
     "data": {
      "text/plain": [
       "53                     Indian in the Cupboard, The (1995)\n",
       "109                     NeverEnding Story III, The (1994)\n",
       "767                       Escape to Witch Mountain (1975)\n",
       "1514            Darby O'Gill and the Little People (1959)\n",
       "1556                                  Return to Oz (1985)\n",
       "1617                        NeverEnding Story, The (1984)\n",
       "1618    NeverEnding Story II: The Next Chapter, The (1...\n",
       "1799                        Santa Claus: The Movie (1985)\n",
       "3574    Harry Potter and the Sorcerer's Stone (a.k.a. ...\n",
       "6075    Chronicles of Narnia: The Lion, the Witch and ...\n",
       "Name: title, dtype: object"
      ]
     },
     "execution_count": 44,
     "metadata": {},
     "output_type": "execute_result"
    }
   ],
   "source": [
    "movies['title'].iloc[similar_movies]"
   ]
  },
  {
   "cell_type": "code",
   "execution_count": null,
   "id": "75608960",
   "metadata": {},
   "outputs": [],
   "source": []
  }
 ],
 "metadata": {
  "kernelspec": {
   "display_name": "Python 3",
   "language": "python",
   "name": "python3"
  },
  "language_info": {
   "codemirror_mode": {
    "name": "ipython",
    "version": 3
   },
   "file_extension": ".py",
   "mimetype": "text/x-python",
   "name": "python",
   "nbconvert_exporter": "python",
   "pygments_lexer": "ipython3",
   "version": "3.8.8"
  }
 },
 "nbformat": 4,
 "nbformat_minor": 5
}
